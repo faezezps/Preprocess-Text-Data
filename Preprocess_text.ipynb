{
  "nbformat": 4,
  "nbformat_minor": 0,
  "metadata": {
    "colab": {
      "name": "Preprocess_text.ipynb",
      "provenance": [],
      "collapsed_sections": []
    },
    "kernelspec": {
      "display_name": "nlp",
      "language": "python",
      "name": "nlp"
    },
    "language_info": {
      "codemirror_mode": {
        "name": "ipython",
        "version": 3
      },
      "file_extension": ".py",
      "mimetype": "text/x-python",
      "name": "python",
      "nbconvert_exporter": "python",
      "pygments_lexer": "ipython3",
      "version": "3.7.4"
    }
  },
  "cells": [
    {
      "cell_type": "markdown",
      "metadata": {
        "colab_type": "text",
        "id": "2xFLk05xfxox"
      },
      "source": [
        "***What is text processing?***\n",
        "\n",
        "\"To preprocess your text simply means to bring your text into a form that is *predictable* and *analyzable* for your task. One task’s ideal preprocessing can become another task’s worst nightmare. So take note: text preprocessing is not directly transferable from task to task.\", [1]."
      ]
    },
    {
      "cell_type": "markdown",
      "metadata": {
        "colab_type": "text",
        "id": "3uwYfFHuiX9A"
      },
      "source": [
        "***Fist step: Tokenization***\n",
        "\n",
        "A *token:* An instance of a sequence of characters\n",
        "\n"
      ]
    },
    {
      "cell_type": "markdown",
      "metadata": {
        "colab_type": "text",
        "id": "ZHgmZJxvev0C"
      },
      "source": [
        "***Types of text preprocessing techniques***\n",
        "\n",
        "- *Lowercasing* : One of the simple and effective ways to preprocess text is lowercasing. However, it may not be usefull for all the NLP tasks. E.g., it is useful in IR but for sentiment analysis, MT, Information extraction, Case is helpful as US versus us is important.\n",
        "\n",
        "- *Stemming*: Reduce terms to their roots.\n",
        "\n",
        "- *Lemmatization* : Lemmatization on the surface is very similar to stemming. However, in lematization, the goal is to remove inflections and map a word to its root form.\n",
        "\n",
        "- *Stopword Removal*: The words that are commonly used in a language is called stop words. For example, \"the\" is one of the most commen words in english that we call it stop word. To focus on the important words, we should eliminate stop words as they have low information.\n",
        "\n",
        "- *Normalization*: The process of transforming a text into an standard form is called text normalization. For example, the word “gooood” and “gud” can be transformed to “good”. This step is important in the case that you are using noisy texts such as social media comments and text massages that have abbreviations, misspellings or use of out-of-vocabulary words (oov). Some steps for normalizing text: \n",
        "  - Converting all letters to lower or upper case\n",
        "  - Converting numbers into words or removing numbers\n",
        "  - Removing punctuations, accent marks and other diacritics\n",
        "  - Removing white spaces\n",
        "  - Removing stop words, sparse terms, and particular words\n",
        "\n",
        "- *Noise Removal*: Some times your text has some extra characters or digits that can affect your analysis. As an example, we can point to HTML tags. This step is one of the important steps which is domain dependent. Forexample, when you are using Tweets, some noises like hashtags are important in your analysis.\n",
        "\n",
        "\n",
        "\n"
      ]
    },
    {
      "cell_type": "markdown",
      "metadata": {
        "colab_type": "text",
        "id": "hMT4izvn7IfZ"
      },
      "source": [
        "***Some useful packages in NLP***\n",
        "1. [Natural Language Toolkit (NLTK)](https://www.nltk.org/data.html)\n",
        "2. [TextBlob](https://textblob.readthedocs.io/en/dev/)\n",
        "3. [Gensim](https://pypi.org/project/gensim/)\n",
        "4. [SpaCy](https://spacy.io/usage)"
      ]
    },
    {
      "cell_type": "markdown",
      "metadata": {
        "colab_type": "text",
        "id": "6oqVSzuB0U-M"
      },
      "source": [
        "Now lets see some implementations.\n",
        "\n",
        "***Tokenizer:***"
      ]
    },
    {
      "cell_type": "code",
      "metadata": {
        "colab_type": "code",
        "id": "8xlBm6MCy8kL",
        "colab": {
          "base_uri": "https://localhost:8080/",
          "height": 71
        },
        "outputId": "d3f9d616-6703-461f-a184-dd3a36032914"
      },
      "source": [
        "import nltk\n",
        "\n",
        "# if you are using colab, you should download punkt\n",
        "nltk.download('punkt')"
      ],
      "execution_count": 1,
      "outputs": [
        {
          "output_type": "stream",
          "text": [
            "[nltk_data] Downloading package punkt to /root/nltk_data...\n",
            "[nltk_data]   Package punkt is already up-to-date!\n"
          ],
          "name": "stdout"
        },
        {
          "output_type": "execute_result",
          "data": {
            "text/plain": [
              "True"
            ]
          },
          "metadata": {
            "tags": []
          },
          "execution_count": 1
        }
      ]
    },
    {
      "cell_type": "code",
      "metadata": {
        "colab_type": "code",
        "id": "9YJx6-P40_g1",
        "outputId": "61777952-a657-4d0c-aea9-edab0d8a1305",
        "scrolled": true,
        "colab": {
          "base_uri": "https://localhost:8080/",
          "height": 446
        }
      },
      "source": [
        "from nltk import word_tokenize\n",
        "sentence = \"Hello. My name is Faeze. We are going to see how this sentence is going to be tokenized. WoW:)\"\n",
        "\n",
        "# Toksnize sentences with considering punctuations\n",
        "tokenized_sentence = word_tokenize(sentence)\n",
        "tokenized_sentence"
      ],
      "execution_count": 2,
      "outputs": [
        {
          "output_type": "execute_result",
          "data": {
            "text/plain": [
              "['Hello',\n",
              " '.',\n",
              " 'My',\n",
              " 'name',\n",
              " 'is',\n",
              " 'Faeze',\n",
              " '.',\n",
              " 'We',\n",
              " 'are',\n",
              " 'going',\n",
              " 'to',\n",
              " 'see',\n",
              " 'how',\n",
              " 'this',\n",
              " 'sentence',\n",
              " 'is',\n",
              " 'going',\n",
              " 'to',\n",
              " 'be',\n",
              " 'tokenized',\n",
              " '.',\n",
              " 'WoW',\n",
              " ':',\n",
              " ')']"
            ]
          },
          "metadata": {
            "tags": []
          },
          "execution_count": 2
        }
      ]
    },
    {
      "cell_type": "markdown",
      "metadata": {
        "colab_type": "text",
        "id": "7GvDSs64WY8_"
      },
      "source": [
        "A ***RegexpTokenizer*** splits a string into substrings using a regular expression."
      ]
    },
    {
      "cell_type": "code",
      "metadata": {
        "colab_type": "code",
        "id": "5lc_R2MXzFGU",
        "outputId": "ed0211e6-5b25-4a63-d60c-0cd7afc6baf5",
        "colab": {
          "base_uri": "https://localhost:8080/",
          "height": 356
        }
      },
      "source": [
        "from nltk.tokenize import RegexpTokenizer\n",
        "\n",
        "# Toksnize sentences and eliminating punctuations\n",
        "tokenizer = RegexpTokenizer(r'\\w+')\n",
        "r_tokenized_sentence = tokenizer.tokenize(sentence)\n",
        "r_tokenized_sentence"
      ],
      "execution_count": 3,
      "outputs": [
        {
          "output_type": "execute_result",
          "data": {
            "text/plain": [
              "['Hello',\n",
              " 'My',\n",
              " 'name',\n",
              " 'is',\n",
              " 'Faeze',\n",
              " 'We',\n",
              " 'are',\n",
              " 'going',\n",
              " 'to',\n",
              " 'see',\n",
              " 'how',\n",
              " 'this',\n",
              " 'sentence',\n",
              " 'is',\n",
              " 'going',\n",
              " 'to',\n",
              " 'be',\n",
              " 'tokenized',\n",
              " 'WoW']"
            ]
          },
          "metadata": {
            "tags": []
          },
          "execution_count": 3
        }
      ]
    },
    {
      "cell_type": "markdown",
      "metadata": {
        "colab_type": "text",
        "id": "6DrX64h6rWJm"
      },
      "source": [
        "***Lower Case:***"
      ]
    },
    {
      "cell_type": "code",
      "metadata": {
        "colab_type": "code",
        "id": "x1gxewvM2YDC",
        "outputId": "264b748a-9518-468a-ea8e-6036eea08827",
        "colab": {
          "base_uri": "https://localhost:8080/",
          "height": 356
        }
      },
      "source": [
        "lower_words = [w.lower() for w in r_tokenized_sentence if w.isalpha]\n",
        "lower_words"
      ],
      "execution_count": 4,
      "outputs": [
        {
          "output_type": "execute_result",
          "data": {
            "text/plain": [
              "['hello',\n",
              " 'my',\n",
              " 'name',\n",
              " 'is',\n",
              " 'faeze',\n",
              " 'we',\n",
              " 'are',\n",
              " 'going',\n",
              " 'to',\n",
              " 'see',\n",
              " 'how',\n",
              " 'this',\n",
              " 'sentence',\n",
              " 'is',\n",
              " 'going',\n",
              " 'to',\n",
              " 'be',\n",
              " 'tokenized',\n",
              " 'wow']"
            ]
          },
          "metadata": {
            "tags": []
          },
          "execution_count": 4
        }
      ]
    },
    {
      "cell_type": "markdown",
      "metadata": {
        "colab_type": "text",
        "id": "q9vize-A0maj"
      },
      "source": [
        "***Stemmer:***"
      ]
    },
    {
      "cell_type": "code",
      "metadata": {
        "colab_type": "code",
        "id": "Y1pw5zyWtEsy",
        "outputId": "cced5511-67b3-49c1-a2e1-1f394ac9147f",
        "colab": {
          "base_uri": "https://localhost:8080/",
          "height": 71
        }
      },
      "source": [
        "# There are different algorithms for stemmer\n",
        "# Here we used porter stemmer\n",
        "from nltk.stem import PorterStemmer \n",
        "\n",
        "ps = PorterStemmer() \n",
        "\n",
        "# The words that we are going to stem them\n",
        "words = [\"Learn\", \"Learning\", \"Learned\", ]\n",
        "\n",
        "for w in words:\n",
        "    print(w, \" : \", ps.stem(w)) "
      ],
      "execution_count": 5,
      "outputs": [
        {
          "output_type": "stream",
          "text": [
            "Learn  :  learn\n",
            "Learning  :  learn\n",
            "Learned  :  learn\n"
          ],
          "name": "stdout"
        }
      ]
    },
    {
      "cell_type": "code",
      "metadata": {
        "colab_type": "code",
        "id": "mKKbaRu1D4S_",
        "outputId": "1aff52da-b2f3-42e1-97da-98598bfb6093",
        "colab": {
          "base_uri": "https://localhost:8080/",
          "height": 35
        }
      },
      "source": [
        "ps.stem(\"sutudent\")"
      ],
      "execution_count": 6,
      "outputs": [
        {
          "output_type": "execute_result",
          "data": {
            "text/plain": [
              "'sutud'"
            ]
          },
          "metadata": {
            "tags": []
          },
          "execution_count": 6
        }
      ]
    },
    {
      "cell_type": "code",
      "metadata": {
        "colab_type": "code",
        "id": "ZajSClffz7Dn",
        "outputId": "da3e6f63-8658-4e16-f661-e657a5441944",
        "colab": {
          "base_uri": "https://localhost:8080/",
          "height": 124
        }
      },
      "source": [
        "words_2 = [\"program\", \"programs\", \"programer\", \"programing\", \"programers\", \"programize\"] \n",
        "\n",
        "for w in words_2:\n",
        "    print(w, \" : \", ps.stem(w)) "
      ],
      "execution_count": 7,
      "outputs": [
        {
          "output_type": "stream",
          "text": [
            "program  :  program\n",
            "programs  :  program\n",
            "programer  :  program\n",
            "programing  :  program\n",
            "programers  :  program\n",
            "programize  :  program\n"
          ],
          "name": "stdout"
        }
      ]
    },
    {
      "cell_type": "markdown",
      "metadata": {
        "colab_type": "text",
        "id": "pRkBU_EB37M2"
      },
      "source": [
        "***Lemmatizer:***"
      ]
    },
    {
      "cell_type": "code",
      "metadata": {
        "id": "4Q2HMZeu9vVj",
        "colab_type": "code",
        "colab": {
          "base_uri": "https://localhost:8080/",
          "height": 71
        },
        "outputId": "e3c03966-0475-4e55-e490-5906a224bbae"
      },
      "source": [
        "# wordnet is used inside the package below, therefore, you should have it in your system\n",
        "nltk.download('wordnet')"
      ],
      "execution_count": 8,
      "outputs": [
        {
          "output_type": "stream",
          "text": [
            "[nltk_data] Downloading package wordnet to /root/nltk_data...\n",
            "[nltk_data]   Package wordnet is already up-to-date!\n"
          ],
          "name": "stdout"
        },
        {
          "output_type": "execute_result",
          "data": {
            "text/plain": [
              "True"
            ]
          },
          "metadata": {
            "tags": []
          },
          "execution_count": 8
        }
      ]
    },
    {
      "cell_type": "code",
      "metadata": {
        "colab_type": "code",
        "id": "xiGdTR81z7KR",
        "outputId": "ddfd97e6-e84a-48e9-d899-c719dcd330c3",
        "scrolled": false,
        "colab": {
          "base_uri": "https://localhost:8080/",
          "height": 124
        }
      },
      "source": [
        "from nltk.stem import WordNetLemmatizer \n",
        "\n",
        "lemmatizer = WordNetLemmatizer() \n",
        "\n",
        "print(\"rocks :\", lemmatizer.lemmatize(\"rocks\")) \n",
        "print(\"corpora :\", lemmatizer.lemmatize(\"corpora\")) \n",
        "\n",
        "# a denotes adjective and v denotes verb in \"pos\" (pos stands for part of speech) \n",
        "print(\"better :\", lemmatizer.lemmatize(\"better\", pos =\"a\")) \n",
        "print(\"gooooood :\", lemmatizer.lemmatize(\"good\", pos =\"a\")) \n",
        "print(\"better :\", lemmatizer.lemmatize(\"worst\", pos =\"a\")) \n",
        "print(lemmatizer.lemmatize(\"gave\" , 'v'))"
      ],
      "execution_count": 9,
      "outputs": [
        {
          "output_type": "stream",
          "text": [
            "rocks : rock\n",
            "corpora : corpus\n",
            "better : good\n",
            "gooooood : good\n",
            "better : bad\n",
            "give\n"
          ],
          "name": "stdout"
        }
      ]
    },
    {
      "cell_type": "code",
      "metadata": {
        "colab_type": "code",
        "id": "sgxQUtQH0aTW",
        "outputId": "522027ab-94f8-435d-b110-f631ca3e0f11",
        "colab": {
          "base_uri": "https://localhost:8080/",
          "height": 88
        }
      },
      "source": [
        "# Lemmatization of some plurals\n",
        "print(\"People: \", lemmatizer.lemmatize(\"People\")) \n",
        "print(\"buses :\", lemmatizer.lemmatize(\"buses\")) \n",
        "print(\"leaves :\", lemmatizer.lemmatize(\"leaves\")) \n",
        "#axis\n",
        "print(\"axes :\", lemmatizer.lemmatize(\"axes\")) "
      ],
      "execution_count": 10,
      "outputs": [
        {
          "output_type": "stream",
          "text": [
            "People:  People\n",
            "buses : bus\n",
            "leaves : leaf\n",
            "axes : ax\n"
          ],
          "name": "stdout"
        }
      ]
    },
    {
      "cell_type": "markdown",
      "metadata": {
        "colab_type": "text",
        "id": "xAvf6RztuOqH"
      },
      "source": [
        "***What is the difference of stemmer and lemmatizer?***\n",
        "\n",
        "\"Lemmatisation is closely related to stemming. The difference is that a stemmer operates on a single word without knowledge of the context, and therefore cannot discriminate between words which have different meanings depending on part of speech. However, stemmers are typically easier to implement and run faster.\" [3]\n",
        "\"Stemming usually refers to a crude heuristic process that chops off the ends of words in the hope of achieving this goal correctly most of the time, and often includes the removal of derivational affixes. Lemmatization usually refers to doing things properly with the use of a vocabulary and morphological analysis of words, normally aiming to remove inflectional endings only and to return the base or dictionary form of a word, which is known as the lemma . If confronted with the token saw, stemming might return just s, whereas lemmatization would attempt to return either see or saw depending on whether the use of the token was as a verb or a noun.\" [4]\n",
        "\n",
        "Example of their different results:"
      ]
    },
    {
      "cell_type": "code",
      "metadata": {
        "colab_type": "code",
        "id": "F3FOrnJk0abZ",
        "outputId": "73afd4fc-db13-42a9-8ebc-9bf41e7d523e",
        "colab": {
          "base_uri": "https://localhost:8080/",
          "height": 178
        }
      },
      "source": [
        "from prettytable import PrettyTable\n",
        "\n",
        "t = PrettyTable(['word', 'stem' , 'lemma'])\n",
        "t.add_row(['women', ps.stem(\"women\"), lemmatizer.lemmatize(\"women\") ])\n",
        "t.add_row(['corpora', ps.stem(\"corpora\"), lemmatizer.lemmatize(\"corpora\") ])\n",
        "t.add_row(['Programmer', ps.stem(\"Programmer\"), lemmatizer.lemmatize(\"Programmer\") ])\n",
        "t.add_row(['thought', ps.stem(\"thought\"), lemmatizer.lemmatize(\"thought\", 'v') ])\n",
        "t.add_row(['taught', ps.stem(\"taught\"), lemmatizer.lemmatize(\"taught\" , 'v') ])\n",
        "\n",
        "print(t)"
      ],
      "execution_count": 11,
      "outputs": [
        {
          "output_type": "stream",
          "text": [
            "+------------+----------+------------+\n",
            "|    word    |   stem   |   lemma    |\n",
            "+------------+----------+------------+\n",
            "|   women    |  women   |   woman    |\n",
            "|  corpora   | corpora  |   corpus   |\n",
            "| Programmer | programm | Programmer |\n",
            "|  thought   | thought  |   think    |\n",
            "|   taught   |  taught  |   teach    |\n",
            "+------------+----------+------------+\n"
          ],
          "name": "stdout"
        }
      ]
    },
    {
      "cell_type": "markdown",
      "metadata": {
        "colab_type": "text",
        "id": "zeCE7kUh8XYd"
      },
      "source": [
        "***Stopword Removal:***"
      ]
    },
    {
      "cell_type": "code",
      "metadata": {
        "id": "ccvi6TUb92jU",
        "colab_type": "code",
        "colab": {
          "base_uri": "https://localhost:8080/",
          "height": 71
        },
        "outputId": "163dfb34-d032-46f9-b573-c857b3068056"
      },
      "source": [
        "# you can use nltk stopwords in this step\n",
        "nltk.download('stopwords')"
      ],
      "execution_count": 12,
      "outputs": [
        {
          "output_type": "stream",
          "text": [
            "[nltk_data] Downloading package stopwords to /root/nltk_data...\n",
            "[nltk_data]   Package stopwords is already up-to-date!\n"
          ],
          "name": "stdout"
        },
        {
          "output_type": "execute_result",
          "data": {
            "text/plain": [
              "True"
            ]
          },
          "metadata": {
            "tags": []
          },
          "execution_count": 12
        }
      ]
    },
    {
      "cell_type": "code",
      "metadata": {
        "colab_type": "code",
        "id": "4_0-yBiO3q5g",
        "outputId": "7a8520bb-f50b-44a8-e02d-6695f8e78f63",
        "colab": {
          "base_uri": "https://localhost:8080/",
          "height": 73
        }
      },
      "source": [
        "from nltk.corpus import stopwords \n",
        "\n",
        "raw_text = \"The most common stop word is the or The. Let's see how stop words are going to be eliminated.\"\n",
        "\n",
        "# Set of english stop words\n",
        "stop_words = set(stopwords.words('english')) \n",
        "\n",
        "word_tokens = word_tokenize(raw_text) \n",
        "\n",
        "filtered_sentence = [w for w in word_tokens if not w in stop_words] \n",
        "\n",
        "print(word_tokens) \n",
        "print(filtered_sentence) "
      ],
      "execution_count": 13,
      "outputs": [
        {
          "output_type": "stream",
          "text": [
            "['The', 'most', 'common', 'stop', 'word', 'is', 'the', 'or', 'The', '.', 'Let', \"'s\", 'see', 'how', 'stop', 'words', 'are', 'going', 'to', 'be', 'eliminated', '.']\n",
            "['The', 'common', 'stop', 'word', 'The', '.', 'Let', \"'s\", 'see', 'stop', 'words', 'going', 'eliminated', '.']\n"
          ],
          "name": "stdout"
        }
      ]
    },
    {
      "cell_type": "markdown",
      "metadata": {
        "id": "NGp454O_BYSd",
        "colab_type": "text"
      },
      "source": [
        "***Note:*** 'The' has not been removed. However, 'the' has been removed. Therefore, you can findout that nltk stopwords does not contain 'The' as an stop word. "
      ]
    },
    {
      "cell_type": "markdown",
      "metadata": {
        "colab_type": "text",
        "id": "El2UE07xATt0"
      },
      "source": [
        "***Normalization:***\n",
        "\n",
        "Reading a text file and eliminating tabs and spaces and etc."
      ]
    },
    {
      "cell_type": "code",
      "metadata": {
        "colab_type": "code",
        "id": "Od-9CBEX_LER",
        "colab": {}
      },
      "source": [
        "# re stands for Regular expression operations\n",
        "import re\n",
        "\n",
        "input_string = 'We are going to remove numbers like: 1, 2, 3, 4, 55, 555 and etc. \\\n",
        " \\n Then, we will see the code for eliminating white \\t spaces, and tabs and newlines. :)'"
      ],
      "execution_count": 0,
      "outputs": []
    },
    {
      "cell_type": "markdown",
      "metadata": {
        "colab_type": "text",
        "id": "Nd9kovQJ99A2"
      },
      "source": [
        "Remove *Numbers*"
      ]
    },
    {
      "cell_type": "code",
      "metadata": {
        "colab_type": "code",
        "id": "MAFDsS_7sthr",
        "outputId": "2e460633-a776-42f0-e7f5-54f7d4d8d0ad",
        "colab": {
          "base_uri": "https://localhost:8080/",
          "height": 180
        }
      },
      "source": [
        "print(\"Input string:\\n\\n\",input_string, \"\\n \\n\")\n",
        "\n",
        "result = re.sub(r'[\\d]+', '', input_string)\n",
        "\n",
        "print(\"Output string:\")\n",
        "result"
      ],
      "execution_count": 15,
      "outputs": [
        {
          "output_type": "stream",
          "text": [
            "Input string:\n",
            "\n",
            " We are going to remove numbers like: 1, 2, 3, 4, 55, 555 and etc.  \n",
            " Then, we will see the code for eliminating white \t spaces, and tabs and newlines. :) \n",
            " \n",
            "\n",
            "Output string:\n"
          ],
          "name": "stdout"
        },
        {
          "output_type": "execute_result",
          "data": {
            "text/plain": [
              "'We are going to remove numbers like: , , , , ,  and etc.  \\n Then, we will see the code for eliminating white \\t spaces, and tabs and newlines. :)'"
            ]
          },
          "metadata": {
            "tags": []
          },
          "execution_count": 15
        }
      ]
    },
    {
      "cell_type": "markdown",
      "metadata": {
        "colab_type": "text",
        "id": "TSYQzDdj-F5L"
      },
      "source": [
        "Remove *Tabs*"
      ]
    },
    {
      "cell_type": "code",
      "metadata": {
        "colab_type": "code",
        "id": "ctLesyVLtcW_",
        "outputId": "ac103023-c60c-4543-92ee-0e1e6556e775",
        "colab": {
          "base_uri": "https://localhost:8080/",
          "height": 55
        }
      },
      "source": [
        "result = re.sub(r\"[\\t]*\", \"\", result)\n",
        "result"
      ],
      "execution_count": 16,
      "outputs": [
        {
          "output_type": "execute_result",
          "data": {
            "text/plain": [
              "'We are going to remove numbers like: , , , , ,  and etc.  \\n Then, we will see the code for eliminating white  spaces, and tabs and newlines. :)'"
            ]
          },
          "metadata": {
            "tags": []
          },
          "execution_count": 16
        }
      ]
    },
    {
      "cell_type": "markdown",
      "metadata": {
        "colab_type": "text",
        "id": "vwqjYn06-K5d"
      },
      "source": [
        "Remove *New lines*"
      ]
    },
    {
      "cell_type": "code",
      "metadata": {
        "colab_type": "code",
        "id": "rk7IklzQtcTo",
        "outputId": "92a494a6-9e4f-4ea0-f232-b43ae5eaa7de",
        "colab": {
          "base_uri": "https://localhost:8080/",
          "height": 55
        }
      },
      "source": [
        "result = re.sub(r\"[\\n]*\", \"\", result)\n",
        "result"
      ],
      "execution_count": 17,
      "outputs": [
        {
          "output_type": "execute_result",
          "data": {
            "text/plain": [
              "'We are going to remove numbers like: , , , , ,  and etc.   Then, we will see the code for eliminating white  spaces, and tabs and newlines. :)'"
            ]
          },
          "metadata": {
            "tags": []
          },
          "execution_count": 17
        }
      ]
    },
    {
      "cell_type": "markdown",
      "metadata": {
        "colab_type": "text",
        "id": "2Bo9BZt--OV7"
      },
      "source": [
        "Remove *Spaces*"
      ]
    },
    {
      "cell_type": "code",
      "metadata": {
        "colab_type": "code",
        "id": "MMdcsymFtcRI",
        "outputId": "ad3522b4-3e48-4e61-9327-75bce008f3ad",
        "colab": {
          "base_uri": "https://localhost:8080/",
          "height": 55
        }
      },
      "source": [
        "result = re.sub(r\"[\\s]+\", \"-+\", result)\n",
        "result"
      ],
      "execution_count": 18,
      "outputs": [
        {
          "output_type": "execute_result",
          "data": {
            "text/plain": [
              "'We-+are-+going-+to-+remove-+numbers-+like:-+,-+,-+,-+,-+,-+and-+etc.-+Then,-+we-+will-+see-+the-+code-+for-+eliminating-+white-+spaces,-+and-+tabs-+and-+newlines.-+:)'"
            ]
          },
          "metadata": {
            "tags": []
          },
          "execution_count": 18
        }
      ]
    },
    {
      "cell_type": "markdown",
      "metadata": {
        "colab_type": "text",
        "id": "KtMhfFDi80w1"
      },
      "source": [
        "Remove *Chrarcters*"
      ]
    },
    {
      "cell_type": "code",
      "metadata": {
        "colab_type": "code",
        "id": "eY0RdEdk7myf",
        "outputId": "5a6eb1a0-5932-49d2-b239-2bebb3093931",
        "colab": {
          "base_uri": "https://localhost:8080/",
          "height": 55
        }
      },
      "source": [
        "result = re.sub(r'\\,', \"!\", result)\n",
        "result"
      ],
      "execution_count": 19,
      "outputs": [
        {
          "output_type": "execute_result",
          "data": {
            "text/plain": [
              "'We-+are-+going-+to-+remove-+numbers-+like:-+!-+!-+!-+!-+!-+and-+etc.-+Then!-+we-+will-+see-+the-+code-+for-+eliminating-+white-+spaces!-+and-+tabs-+and-+newlines.-+:)'"
            ]
          },
          "metadata": {
            "tags": []
          },
          "execution_count": 19
        }
      ]
    },
    {
      "cell_type": "code",
      "metadata": {
        "colab_type": "code",
        "id": "tTMu3-ZP8LRx",
        "outputId": "3535a011-166e-49a6-836d-95414fdf7113",
        "colab": {
          "base_uri": "https://localhost:8080/",
          "height": 55
        }
      },
      "source": [
        "result = re.sub(r'\\-', \"!\", result)\n",
        "result"
      ],
      "execution_count": 20,
      "outputs": [
        {
          "output_type": "execute_result",
          "data": {
            "text/plain": [
              "'We!+are!+going!+to!+remove!+numbers!+like:!+!!+!!+!!+!!+!!+and!+etc.!+Then!!+we!+will!+see!+the!+code!+for!+eliminating!+white!+spaces!!+and!+tabs!+and!+newlines.!+:)'"
            ]
          },
          "metadata": {
            "tags": []
          },
          "execution_count": 20
        }
      ]
    },
    {
      "cell_type": "markdown",
      "metadata": {
        "colab_type": "text",
        "id": "pCidGqxS8leU"
      },
      "source": [
        "You can also use *replace function* instead of sub"
      ]
    },
    {
      "cell_type": "code",
      "metadata": {
        "colab_type": "code",
        "id": "QRucc7nk6-WA",
        "outputId": "96fb6511-20d2-4d11-b9c6-20df43cb7d0c",
        "colab": {
          "base_uri": "https://localhost:8080/",
          "height": 55
        }
      },
      "source": [
        "result = result.replace('+', ' ')\n",
        "result"
      ],
      "execution_count": 21,
      "outputs": [
        {
          "output_type": "execute_result",
          "data": {
            "text/plain": [
              "'We! are! going! to! remove! numbers! like:! !! !! !! !! !! and! etc.! Then!! we! will! see! the! code! for! eliminating! white! spaces!! and! tabs! and! newlines.! :)'"
            ]
          },
          "metadata": {
            "tags": []
          },
          "execution_count": 21
        }
      ]
    },
    {
      "cell_type": "code",
      "metadata": {
        "colab_type": "code",
        "id": "UiQYLosZG0PF",
        "outputId": "f38b7b25-7fe6-41fe-fd15-2af41d497275",
        "colab": {
          "base_uri": "https://localhost:8080/",
          "height": 55
        }
      },
      "source": [
        "result = result.replace('n', 'a')\n",
        "result"
      ],
      "execution_count": 22,
      "outputs": [
        {
          "output_type": "execute_result",
          "data": {
            "text/plain": [
              "'We! are! goiag! to! remove! aumbers! like:! !! !! !! !! !! aad! etc.! Thea!! we! will! see! the! code! for! elimiaatiag! white! spaces!! aad! tabs! aad! aewliaes.! :)'"
            ]
          },
          "metadata": {
            "tags": []
          },
          "execution_count": 22
        }
      ]
    },
    {
      "cell_type": "markdown",
      "metadata": {
        "colab_type": "text",
        "id": "Va5iGHZ9-Tt2"
      },
      "source": [
        "Remove *punctuations*"
      ]
    },
    {
      "cell_type": "code",
      "metadata": {
        "colab_type": "code",
        "id": "S4uNATNS0vLh",
        "outputId": "48da40c9-9217-4eed-eb97-7836d51c12e1",
        "colab": {
          "base_uri": "https://localhost:8080/",
          "height": 35
        }
      },
      "source": [
        "import string\n",
        "string.punctuation"
      ],
      "execution_count": 23,
      "outputs": [
        {
          "output_type": "execute_result",
          "data": {
            "text/plain": [
              "'!\"#$%&\\'()*+,-./:;<=>?@[\\\\]^_`{|}~'"
            ]
          },
          "metadata": {
            "tags": []
          },
          "execution_count": 23
        }
      ]
    },
    {
      "cell_type": "code",
      "metadata": {
        "colab_type": "code",
        "id": "5ZplwJzJ0vYA",
        "outputId": "ad7a9833-43e8-4810-effc-1f7e44e28b66",
        "colab": {
          "base_uri": "https://localhost:8080/",
          "height": 142
        }
      },
      "source": [
        "input_string = \" @test -- hi --- {ohhhh} isn't this fun?\"\n",
        "print(\"Input string is :\\n \\n\", input_string)\n",
        "\n",
        "result = re.sub('[%s]' % re.escape(string.punctuation), '', input_string)\n",
        "\n",
        "print(\"\\n \\n Out put stritng:\")\n",
        "result"
      ],
      "execution_count": 24,
      "outputs": [
        {
          "output_type": "stream",
          "text": [
            "Input string is :\n",
            " \n",
            "  @test -- hi --- {ohhhh} isn't this fun?\n",
            "\n",
            " \n",
            " Out put stritng:\n"
          ],
          "name": "stdout"
        },
        {
          "output_type": "execute_result",
          "data": {
            "text/plain": [
              "' test  hi  ohhhh isnt this fun'"
            ]
          },
          "metadata": {
            "tags": []
          },
          "execution_count": 24
        }
      ]
    },
    {
      "cell_type": "markdown",
      "metadata": {
        "colab_type": "text",
        "id": "kO_-v-hvkTx_"
      },
      "source": [
        "If you want to *remove spaces* and make a *list*, you can use split() funciton."
      ]
    },
    {
      "cell_type": "code",
      "metadata": {
        "colab_type": "code",
        "id": "GO2IFzsyk6YO",
        "outputId": "68d8b98f-f158-435f-cec4-15ff96467fdd",
        "colab": {
          "base_uri": "https://localhost:8080/",
          "height": 35
        }
      },
      "source": [
        "example = \" H e l l o\"\n",
        "example.split()"
      ],
      "execution_count": 25,
      "outputs": [
        {
          "output_type": "execute_result",
          "data": {
            "text/plain": [
              "['H', 'e', 'l', 'l', 'o']"
            ]
          },
          "metadata": {
            "tags": []
          },
          "execution_count": 25
        }
      ]
    },
    {
      "cell_type": "code",
      "metadata": {
        "id": "d5tP_Otb9K5O",
        "colab_type": "code",
        "colab": {
          "base_uri": "https://localhost:8080/",
          "height": 35
        },
        "outputId": "a760bd6e-2f5d-4749-cfe0-96dd77ef7e9f"
      },
      "source": [
        "example = \" Hello. My name is Faeze.\"\n",
        "example = re.sub('[%s]' % re.escape(string.punctuation), '', example)\n",
        "example.split()"
      ],
      "execution_count": 26,
      "outputs": [
        {
          "output_type": "execute_result",
          "data": {
            "text/plain": [
              "['Hello', 'My', 'name', 'is', 'Faeze']"
            ]
          },
          "metadata": {
            "tags": []
          },
          "execution_count": 26
        }
      ]
    },
    {
      "cell_type": "markdown",
      "metadata": {
        "colab_type": "text",
        "id": "e72FiKnZgTO_"
      },
      "source": [
        "***Word Embedding:***\n",
        "\n",
        "The goal of word embedding is mapping words to vectors of real numbers in vector space with several dimentions. There are a lot of methods that can be used to achieve this goal. Methods like neural networks, co-occurrence matrix, etc.\n",
        "\n",
        "***Word2Vec:***\n",
        "\n",
        "We use Word2Vec to generate word embeddings. Word2Vec is neural network that has one input layer, one hidden layer and one output layer! It utilizes two different architecture. One of them is CBOW (Continuous Bag of Words) architecture and the other one is Skip Gram. \n",
        "\n",
        "**Difference of *CBOW* and *Skip Gram* architecture:**\n",
        "\n",
        "![title](Word2vec.png)\n",
        "\"The CBOW architecture predicts the current word based on the context, and the Skip-gram predicts surrounding words given the current word\" [7]"
      ]
    },
    {
      "cell_type": "markdown",
      "metadata": {
        "colab_type": "text",
        "id": "PxgwbL7nIdgR"
      },
      "source": [
        "Some applications of *Word Embedding*:\n",
        "- Sentiment Analysis\n",
        "- Information Retrieval\n",
        "- Question Answering"
      ]
    },
    {
      "cell_type": "code",
      "metadata": {
        "id": "BHriQB4s-FUF",
        "colab_type": "code",
        "colab": {
          "base_uri": "https://localhost:8080/",
          "height": 71
        },
        "outputId": "b98d8f5e-683f-4808-c8fa-fa1e469f8de6"
      },
      "source": [
        "# download brown corpus \n",
        "nltk.download('brown')"
      ],
      "execution_count": 27,
      "outputs": [
        {
          "output_type": "stream",
          "text": [
            "[nltk_data] Downloading package brown to /root/nltk_data...\n",
            "[nltk_data]   Package brown is already up-to-date!\n"
          ],
          "name": "stdout"
        },
        {
          "output_type": "execute_result",
          "data": {
            "text/plain": [
              "True"
            ]
          },
          "metadata": {
            "tags": []
          },
          "execution_count": 27
        }
      ]
    },
    {
      "cell_type": "code",
      "metadata": {
        "colab_type": "code",
        "id": "U9VxIJr548Ni",
        "outputId": "4e1d8742-305d-439b-8a71-68051c779646",
        "colab": {
          "base_uri": "https://localhost:8080/",
          "height": 285
        }
      },
      "source": [
        "nltk.corpus.brown.categories()"
      ],
      "execution_count": 28,
      "outputs": [
        {
          "output_type": "execute_result",
          "data": {
            "text/plain": [
              "['adventure',\n",
              " 'belles_lettres',\n",
              " 'editorial',\n",
              " 'fiction',\n",
              " 'government',\n",
              " 'hobbies',\n",
              " 'humor',\n",
              " 'learned',\n",
              " 'lore',\n",
              " 'mystery',\n",
              " 'news',\n",
              " 'religion',\n",
              " 'reviews',\n",
              " 'romance',\n",
              " 'science_fiction']"
            ]
          },
          "metadata": {
            "tags": []
          },
          "execution_count": 28
        }
      ]
    },
    {
      "cell_type": "code",
      "metadata": {
        "colab_type": "code",
        "id": "y_qlaL-748Np",
        "outputId": "77bb4972-1bc6-4702-fc1a-0c52b910033b",
        "colab": {
          "base_uri": "https://localhost:8080/",
          "height": 55
        }
      },
      "source": [
        "corpus = nltk.corpus.brown.sents(categories = 'reviews')\n",
        "corpus"
      ],
      "execution_count": 29,
      "outputs": [
        {
          "output_type": "execute_result",
          "data": {
            "text/plain": [
              "[['It', 'is', 'not', 'news', 'that', 'Nathan', 'Milstein', 'is', 'a', 'wizard', 'of', 'the', 'violin', '.'], ['Certainly', 'not', 'in', 'Orchestra', 'Hall', 'where', 'he', 'has', 'played', 'countless', 'recitals', ',', 'and', 'where', 'Thursday', 'night', 'he', 'celebrated', 'his', '20th', 'season', 'with', 'the', 'Chicago', 'Symphony', 'Orchestra', ',', 'playing', 'the', 'Brahms', 'Concerto', 'with', 'his', 'own', 'slashing', ',', 'demon-ridden', 'cadenza', 'melting', 'into', 'the', 'high', ',', 'pale', ',', 'pure', 'and', 'lovely', 'song', 'with', 'which', 'a', 'violinist', 'unlocks', 'the', 'heart', 'of', 'the', 'music', ',', 'or', 'forever', 'finds', 'it', 'closed', '.'], ...]"
            ]
          },
          "metadata": {
            "tags": []
          },
          "execution_count": 29
        }
      ]
    },
    {
      "cell_type": "code",
      "metadata": {
        "colab_type": "code",
        "id": "TTA8xG-D48Nu",
        "colab": {}
      },
      "source": [
        "import gensim\n",
        "\n",
        "# Continuous Bag of Words\n",
        "CBOW_model = gensim.models.Word2Vec(corpus, min_count = 1, size = 200, window = 5) \n",
        "\n",
        "# Skip Gram\n",
        "SG_model = gensim.models.Word2Vec(corpus, min_count = 1, size = 200, window = 3, sg = 1) "
      ],
      "execution_count": 0,
      "outputs": []
    },
    {
      "cell_type": "code",
      "metadata": {
        "colab_type": "code",
        "id": "IDMgBxO93rzj",
        "outputId": "00e7bfbf-8231-4052-afe8-dd7ebe00adb2",
        "colab": {
          "base_uri": "https://localhost:8080/",
          "height": 341
        }
      },
      "source": [
        "t1 = PrettyTable([ '', 'It - was', 'It - celebrated'])\n",
        "\n",
        "\n",
        "t1.add_row([ 'CBOW' , CBOW_model.similarity('It', 'was'), CBOW_model.similarity('It', 'celebrated')])\n",
        "\n",
        "t1.add_row([ 'SG' , SG_model.similarity('It', 'was'), SG_model.similarity('It', 'celebrated')])\n",
        "\n",
        "print(t1)\n",
        "\n",
        "print(\"\\n \\n \\n \\n\")"
      ],
      "execution_count": 31,
      "outputs": [
        {
          "output_type": "stream",
          "text": [
            "+------+------------+-----------------+\n",
            "|      |  It - was  | It - celebrated |\n",
            "+------+------------+-----------------+\n",
            "| CBOW | 0.9998826  |    0.9705507    |\n",
            "|  SG  | 0.99961525 |    0.99823713   |\n",
            "+------+------------+-----------------+\n",
            "\n",
            " \n",
            " \n",
            " \n",
            "\n"
          ],
          "name": "stdout"
        },
        {
          "output_type": "stream",
          "text": [
            "/usr/local/lib/python3.6/dist-packages/ipykernel_launcher.py:4: DeprecationWarning: Call to deprecated `similarity` (Method will be removed in 4.0.0, use self.wv.similarity() instead).\n",
            "  after removing the cwd from sys.path.\n",
            "/usr/local/lib/python3.6/dist-packages/gensim/matutils.py:737: FutureWarning: Conversion of the second argument of issubdtype from `int` to `np.signedinteger` is deprecated. In future, it will be treated as `np.int64 == np.dtype(int).type`.\n",
            "  if np.issubdtype(vec.dtype, np.int):\n",
            "/usr/local/lib/python3.6/dist-packages/ipykernel_launcher.py:6: DeprecationWarning: Call to deprecated `similarity` (Method will be removed in 4.0.0, use self.wv.similarity() instead).\n",
            "  \n"
          ],
          "name": "stderr"
        }
      ]
    },
    {
      "cell_type": "code",
      "metadata": {
        "colab_type": "code",
        "id": "3dgV5LES3sIN",
        "outputId": "f57679bd-3e88-42aa-f9b3-469a5a13d8ca",
        "colab": {
          "base_uri": "https://localhost:8080/",
          "height": 341
        }
      },
      "source": [
        "t2 = PrettyTable([ '', 'Symphony - night', 'Symphony - 20th' ])\n",
        "\n",
        "\n",
        "t2.add_row([ 'CBOW' , CBOW_model.similarity('Symphony', 'night'), CBOW_model.similarity('Symphony', '20th')])\n",
        "\n",
        "t2.add_row([ 'SG' , SG_model.similarity('Symphony', 'night'), SG_model.similarity('Symphony', '20th')])\n",
        "\n",
        "print(t2)\n",
        "\n",
        "print(\"\\n \\n \\n \\n\")"
      ],
      "execution_count": 32,
      "outputs": [
        {
          "output_type": "stream",
          "text": [
            "+------+------------------+-----------------+\n",
            "|      | Symphony - night | Symphony - 20th |\n",
            "+------+------------------+-----------------+\n",
            "| CBOW |    0.9945677     |    0.97747123   |\n",
            "|  SG  |    0.99947304    |    0.99808866   |\n",
            "+------+------------------+-----------------+\n",
            "\n",
            " \n",
            " \n",
            " \n",
            "\n"
          ],
          "name": "stdout"
        },
        {
          "output_type": "stream",
          "text": [
            "/usr/local/lib/python3.6/dist-packages/ipykernel_launcher.py:4: DeprecationWarning: Call to deprecated `similarity` (Method will be removed in 4.0.0, use self.wv.similarity() instead).\n",
            "  after removing the cwd from sys.path.\n",
            "/usr/local/lib/python3.6/dist-packages/gensim/matutils.py:737: FutureWarning: Conversion of the second argument of issubdtype from `int` to `np.signedinteger` is deprecated. In future, it will be treated as `np.int64 == np.dtype(int).type`.\n",
            "  if np.issubdtype(vec.dtype, np.int):\n",
            "/usr/local/lib/python3.6/dist-packages/ipykernel_launcher.py:6: DeprecationWarning: Call to deprecated `similarity` (Method will be removed in 4.0.0, use self.wv.similarity() instead).\n",
            "  \n"
          ],
          "name": "stderr"
        }
      ]
    },
    {
      "cell_type": "code",
      "metadata": {
        "colab_type": "code",
        "id": "mFBqC0AkPTDf",
        "outputId": "1e1f58cf-f77d-4152-939d-60003a6b484a",
        "colab": {
          "base_uri": "https://localhost:8080/",
          "height": 287
        }
      },
      "source": [
        "CBOW_model.most_similar('It')"
      ],
      "execution_count": 33,
      "outputs": [
        {
          "output_type": "stream",
          "text": [
            "/usr/local/lib/python3.6/dist-packages/ipykernel_launcher.py:1: DeprecationWarning: Call to deprecated `most_similar` (Method will be removed in 4.0.0, use self.wv.most_similar() instead).\n",
            "  \"\"\"Entry point for launching an IPython kernel.\n",
            "/usr/local/lib/python3.6/dist-packages/gensim/matutils.py:737: FutureWarning: Conversion of the second argument of issubdtype from `int` to `np.signedinteger` is deprecated. In future, it will be treated as `np.int64 == np.dtype(int).type`.\n",
            "  if np.issubdtype(vec.dtype, np.int):\n"
          ],
          "name": "stderr"
        },
        {
          "output_type": "execute_result",
          "data": {
            "text/plain": [
              "[('by', 0.9998987913131714),\n",
              " ('that', 0.9998985528945923),\n",
              " ('and', 0.9998968839645386),\n",
              " ('who', 0.9998935461044312),\n",
              " (',', 0.999893307685852),\n",
              " ('an', 0.9998929500579834),\n",
              " ('with', 0.9998929500579834),\n",
              " ('the', 0.9998922944068909),\n",
              " ('this', 0.9998917579650879),\n",
              " ('a', 0.9998911619186401)]"
            ]
          },
          "metadata": {
            "tags": []
          },
          "execution_count": 33
        }
      ]
    },
    {
      "cell_type": "code",
      "metadata": {
        "colab_type": "code",
        "id": "xwgC2bRAPgDx",
        "outputId": "59efb0b3-1b64-4335-9fbb-2468364b383e",
        "colab": {
          "base_uri": "https://localhost:8080/",
          "height": 287
        }
      },
      "source": [
        "CBOW_model.most_similar('Symphony')"
      ],
      "execution_count": 34,
      "outputs": [
        {
          "output_type": "stream",
          "text": [
            "/usr/local/lib/python3.6/dist-packages/ipykernel_launcher.py:1: DeprecationWarning: Call to deprecated `most_similar` (Method will be removed in 4.0.0, use self.wv.most_similar() instead).\n",
            "  \"\"\"Entry point for launching an IPython kernel.\n",
            "/usr/local/lib/python3.6/dist-packages/gensim/matutils.py:737: FutureWarning: Conversion of the second argument of issubdtype from `int` to `np.signedinteger` is deprecated. In future, it will be treated as `np.int64 == np.dtype(int).type`.\n",
            "  if np.issubdtype(vec.dtype, np.int):\n"
          ],
          "name": "stderr"
        },
        {
          "output_type": "execute_result",
          "data": {
            "text/plain": [
              "[('jazz', 0.994769811630249),\n",
              " ('could', 0.9947211742401123),\n",
              " ('than', 0.9947123527526855),\n",
              " ('great', 0.9947037100791931),\n",
              " ('too', 0.9946855306625366),\n",
              " ('any', 0.994675874710083),\n",
              " ('songs', 0.9946746826171875),\n",
              " ('really', 0.9946674108505249),\n",
              " ('big', 0.99466472864151),\n",
              " ('best', 0.9946575164794922)]"
            ]
          },
          "metadata": {
            "tags": []
          },
          "execution_count": 34
        }
      ]
    },
    {
      "cell_type": "markdown",
      "metadata": {
        "colab_type": "text",
        "id": "m69722KB_lyT"
      },
      "source": [
        "What is the ***embedding*** of word 'It' based on our model ?"
      ]
    },
    {
      "cell_type": "code",
      "metadata": {
        "colab_type": "code",
        "id": "t-sp8kDaKvtk",
        "outputId": "b4ec6bb3-12d8-4285-f9a8-4f97d112080a",
        "colab": {
          "base_uri": "https://localhost:8080/",
          "height": 984
        }
      },
      "source": [
        "CBOW_model['It']"
      ],
      "execution_count": 35,
      "outputs": [
        {
          "output_type": "stream",
          "text": [
            "/usr/local/lib/python3.6/dist-packages/ipykernel_launcher.py:1: DeprecationWarning: Call to deprecated `__getitem__` (Method will be removed in 4.0.0, use self.wv.__getitem__() instead).\n",
            "  \"\"\"Entry point for launching an IPython kernel.\n"
          ],
          "name": "stderr"
        },
        {
          "output_type": "execute_result",
          "data": {
            "text/plain": [
              "array([ 7.43867978e-02, -4.09538336e-02, -2.14419067e-01, -2.38652721e-01,\n",
              "        4.36176024e-02,  1.83320686e-01, -1.09980904e-01,  1.62419379e-01,\n",
              "        1.95394661e-02, -2.12101415e-01, -7.84616992e-02, -2.49081701e-02,\n",
              "        6.79169297e-02,  2.39527822e-02, -1.53401241e-01, -2.17868656e-01,\n",
              "       -8.85494519e-03, -1.88007012e-01, -9.81699303e-02, -1.79678693e-01,\n",
              "        2.71370672e-02, -6.66945651e-02, -1.07201785e-01, -1.11461855e-01,\n",
              "       -3.12217064e-02,  1.42822668e-01,  1.86867684e-01, -8.80829245e-02,\n",
              "        2.20453814e-02,  9.66384560e-02,  3.59995589e-02, -1.94973141e-01,\n",
              "        4.91730385e-02,  2.96929963e-02, -4.18023691e-02, -7.67852440e-02,\n",
              "       -4.72941846e-02,  1.85565442e-01,  1.26580432e-01, -4.40589152e-02,\n",
              "        2.12089121e-01,  6.47473410e-02, -5.89317493e-02,  6.81819543e-02,\n",
              "       -4.81994227e-02, -1.17797982e-02, -9.57734585e-02, -4.83448878e-02,\n",
              "        2.39926800e-02, -1.14677906e-01,  1.89202756e-01, -6.39978126e-02,\n",
              "       -2.07016483e-01,  2.89455727e-02,  2.49947608e-02, -1.95284374e-02,\n",
              "        7.55579025e-02, -1.70236025e-02,  2.57912278e-02,  1.32214632e-02,\n",
              "       -1.55891061e-01,  4.82242107e-02, -5.92849329e-02, -5.59905991e-02,\n",
              "       -4.67389822e-03,  1.13486335e-01,  1.61647741e-02,  1.34324282e-01,\n",
              "       -7.60320202e-02,  1.02543667e-01,  2.07033549e-02, -1.05873756e-01,\n",
              "        1.26929462e-01,  6.09558076e-02, -5.31188361e-02,  1.77961171e-01,\n",
              "        5.99056371e-02, -8.50591213e-02, -2.71080639e-02, -1.56930864e-01,\n",
              "       -2.11313456e-01, -1.35696739e-01, -7.10964501e-02,  5.09748645e-02,\n",
              "       -2.95004640e-02, -5.04076481e-02,  1.47934705e-01, -3.98874022e-02,\n",
              "        6.21945709e-02,  1.50904492e-01,  1.67068869e-01,  2.08318084e-02,\n",
              "        5.65057807e-02, -1.03913158e-01,  3.99704613e-02,  9.62083563e-02,\n",
              "        1.26155848e-02, -1.79627929e-02, -9.61476564e-02,  1.01520650e-01,\n",
              "        9.48724747e-02, -1.28579646e-01, -1.18049800e-01,  7.81480521e-02,\n",
              "       -3.14415060e-02,  1.94043919e-01, -1.63463131e-02, -3.58724296e-02,\n",
              "       -1.19658582e-01, -1.39454156e-01, -7.57085606e-02,  2.16452807e-01,\n",
              "        9.52066705e-02,  6.89730495e-02,  1.06511451e-02,  7.96334222e-02,\n",
              "        8.42432454e-02, -5.18863238e-02, -1.07454844e-01,  1.23401791e-01,\n",
              "        1.65472865e-01,  2.70358175e-02, -8.05874616e-02,  5.09029292e-02,\n",
              "        8.00767466e-02, -7.99449980e-02, -1.25921473e-01,  1.06208334e-02,\n",
              "        1.37418762e-01, -2.69563366e-02,  5.60971648e-02, -1.14845745e-01,\n",
              "        1.29998386e-01,  3.17056477e-02,  1.95602149e-01, -1.84614304e-02,\n",
              "       -1.06306128e-01, -4.17948775e-02,  1.07153833e-01,  1.08752795e-01,\n",
              "       -1.15647331e-01, -6.18818868e-03, -1.65689543e-01, -2.22213060e-01,\n",
              "       -1.98525265e-02, -2.76936516e-02, -1.13834821e-01,  7.51037970e-02,\n",
              "        6.03056662e-02, -2.27257758e-01, -9.63086411e-02,  6.72828630e-02,\n",
              "        1.27333075e-01, -5.08220270e-02,  6.74258992e-02,  4.44746315e-02,\n",
              "       -1.23129636e-01,  7.05350414e-02, -6.60223141e-02,  3.07965279e-02,\n",
              "        6.60855174e-02, -4.97461557e-02,  1.11413836e-01, -1.27625003e-01,\n",
              "       -1.04895882e-01, -1.50639385e-01, -4.18730490e-02,  7.81348869e-02,\n",
              "       -1.63155094e-01, -1.18883535e-01,  1.98359594e-01, -7.78977051e-02,\n",
              "       -2.71150609e-03, -1.19216189e-01,  1.53874218e-01, -2.72809323e-02,\n",
              "        5.77207692e-02,  1.82946935e-01, -5.05522005e-02, -1.83364674e-01,\n",
              "       -4.00654301e-02,  3.90977487e-02,  1.14486076e-01, -2.00636089e-02,\n",
              "       -3.41239385e-03, -2.35180229e-01,  3.66195687e-03, -9.56710355e-05,\n",
              "        2.54492816e-02, -1.16891369e-01, -1.44895270e-01,  9.44705009e-02,\n",
              "        3.95480134e-02, -9.99618396e-02, -3.33240367e-02,  1.88545941e-03,\n",
              "        1.09606832e-01, -9.91181731e-02,  8.25921670e-02, -1.22550286e-01],\n",
              "      dtype=float32)"
            ]
          },
          "metadata": {
            "tags": []
          },
          "execution_count": 35
        }
      ]
    },
    {
      "cell_type": "code",
      "metadata": {
        "colab_type": "code",
        "id": "Yt4A2ZXH5A8y",
        "outputId": "975c321d-4e73-4154-d236-1b392089f059",
        "colab": {
          "base_uri": "https://localhost:8080/",
          "height": 984
        }
      },
      "source": [
        "CBOW_model['Symphony']"
      ],
      "execution_count": 36,
      "outputs": [
        {
          "output_type": "stream",
          "text": [
            "/usr/local/lib/python3.6/dist-packages/ipykernel_launcher.py:1: DeprecationWarning: Call to deprecated `__getitem__` (Method will be removed in 4.0.0, use self.wv.__getitem__() instead).\n",
            "  \"\"\"Entry point for launching an IPython kernel.\n"
          ],
          "name": "stderr"
        },
        {
          "output_type": "execute_result",
          "data": {
            "text/plain": [
              "array([ 6.98366808e-03, -5.81323868e-03, -2.76240688e-02, -2.82791369e-02,\n",
              "        4.15141042e-03,  2.01366805e-02, -1.55064911e-02,  1.91128571e-02,\n",
              "        4.44412604e-03, -2.46016141e-02, -8.37006606e-03, -3.21574323e-03,\n",
              "        9.11434274e-03,  4.15783795e-03, -1.75164808e-02, -2.63317730e-02,\n",
              "        6.55330019e-04, -2.33291965e-02, -1.13435090e-02, -2.40438525e-02,\n",
              "        5.78755746e-03, -9.89806652e-03, -1.43923415e-02, -1.45783266e-02,\n",
              "       -4.88921767e-03,  1.98233463e-02,  2.33813673e-02, -1.15583064e-02,\n",
              "        5.22273825e-04,  1.42378332e-02,  3.77254141e-03, -2.62087509e-02,\n",
              "        5.93392644e-03,  2.20031966e-03, -5.12543181e-03, -1.01932883e-02,\n",
              "       -3.84254730e-03,  2.49003805e-02,  1.50159979e-02, -5.92006883e-03,\n",
              "        2.51782425e-02,  7.98874721e-03, -8.36302154e-03,  8.19399208e-03,\n",
              "       -6.30524382e-03, -1.26334396e-03, -1.13955634e-02, -8.40123277e-03,\n",
              "        2.19929800e-03, -1.51391719e-02,  2.52728593e-02, -6.70901686e-03,\n",
              "       -2.57468428e-02,  5.45869395e-03,  3.94608220e-03, -4.43072990e-03,\n",
              "        1.00670159e-02, -3.11405049e-03,  6.78619894e-04,  3.28767672e-03,\n",
              "       -2.02505849e-02,  4.78427811e-03, -8.99647269e-03, -5.16618416e-03,\n",
              "       -1.04091689e-03,  1.38324257e-02,  2.92944815e-03,  1.69080496e-02,\n",
              "       -9.44693014e-03,  1.29543543e-02,  3.37957800e-03, -1.17515726e-02,\n",
              "        1.65265240e-02,  6.57088496e-03, -9.09430627e-03,  2.03768462e-02,\n",
              "        5.13653876e-03, -1.24881715e-02, -4.75566974e-03, -1.73498131e-02,\n",
              "       -2.52847746e-02, -1.80573873e-02, -9.07103252e-03,  6.05453970e-03,\n",
              "       -4.34604846e-03, -6.34647068e-03,  1.97891071e-02, -5.04409662e-03,\n",
              "        8.72118492e-03,  1.60405412e-02,  2.32102331e-02,  2.79692700e-03,\n",
              "        4.78477636e-03, -1.41192032e-02,  6.35268399e-03,  1.37481187e-02,\n",
              "        2.55880575e-03,  4.34900358e-05, -1.32557116e-02,  1.51012149e-02,\n",
              "        1.13481022e-02, -1.69293601e-02, -1.53054232e-02,  8.62141233e-03,\n",
              "       -4.27092845e-03,  2.60064881e-02, -9.38981713e-04, -5.24001895e-03,\n",
              "       -1.30332597e-02, -1.63880717e-02, -8.87875259e-03,  2.61287671e-02,\n",
              "        1.41291525e-02,  8.49862583e-03,  6.24005916e-04,  1.01656010e-02,\n",
              "        1.02020986e-02, -5.93984826e-03, -1.21727092e-02,  1.39808739e-02,\n",
              "        1.81103516e-02,  2.76347925e-03, -8.08956474e-03,  8.30194354e-03,\n",
              "        9.27241426e-03, -9.58298799e-03, -1.47806825e-02,  2.55997153e-03,\n",
              "        1.66924614e-02, -4.74839890e-03,  7.46095181e-03, -1.43222734e-02,\n",
              "        1.72667447e-02,  1.52346981e-03,  2.28408929e-02, -3.99276568e-03,\n",
              "       -1.36517966e-02, -6.61455747e-03,  1.45183625e-02,  1.29522961e-02,\n",
              "       -1.43211344e-02, -2.75536883e-03, -2.19911411e-02, -2.91058980e-02,\n",
              "       -2.85105244e-03, -5.63404104e-03, -1.66687761e-02,  8.69534537e-03,\n",
              "        9.62948799e-03, -2.78998427e-02, -1.32521298e-02,  7.97525700e-03,\n",
              "        1.62829459e-02, -7.26528373e-03,  8.63064732e-03,  3.86524783e-03,\n",
              "       -1.52528062e-02,  8.33278149e-03, -9.84467193e-03,  2.15913332e-03,\n",
              "        8.78564361e-03, -8.07663891e-03,  1.31441271e-02, -1.54528869e-02,\n",
              "       -1.06123984e-02, -1.94197576e-02, -7.37698050e-03,  1.11725489e-02,\n",
              "       -2.10982319e-02, -1.37446132e-02,  2.22733766e-02, -7.33568240e-03,\n",
              "        3.67537548e-04, -1.29424781e-02,  1.98517162e-02, -2.10657436e-03,\n",
              "        7.34009501e-03,  2.04358846e-02, -7.95281585e-03, -2.38654315e-02,\n",
              "       -4.02544439e-03,  2.99954601e-03,  1.27993990e-02, -3.59298917e-03,\n",
              "        1.81447295e-03, -2.81065311e-02, -1.74507115e-03,  7.01303215e-05,\n",
              "        4.77573462e-03, -1.25838667e-02, -1.81158371e-02,  1.25939893e-02,\n",
              "        7.47007085e-03, -1.27845090e-02, -2.44063977e-03, -6.94641029e-04,\n",
              "        1.57438144e-02, -1.31727988e-02,  8.77795927e-03, -1.32746696e-02],\n",
              "      dtype=float32)"
            ]
          },
          "metadata": {
            "tags": []
          },
          "execution_count": 36
        }
      ]
    },
    {
      "cell_type": "code",
      "metadata": {
        "colab_type": "code",
        "id": "Djc1AS4DK0YV",
        "outputId": "6c995de0-7302-47ba-8349-0270d4c1b461",
        "colab": {
          "base_uri": "https://localhost:8080/",
          "height": 91
        }
      },
      "source": [
        "len(CBOW_model['Symphony'])"
      ],
      "execution_count": 37,
      "outputs": [
        {
          "output_type": "stream",
          "text": [
            "/usr/local/lib/python3.6/dist-packages/ipykernel_launcher.py:1: DeprecationWarning: Call to deprecated `__getitem__` (Method will be removed in 4.0.0, use self.wv.__getitem__() instead).\n",
            "  \"\"\"Entry point for launching an IPython kernel.\n"
          ],
          "name": "stderr"
        },
        {
          "output_type": "execute_result",
          "data": {
            "text/plain": [
              "200"
            ]
          },
          "metadata": {
            "tags": []
          },
          "execution_count": 37
        }
      ]
    },
    {
      "cell_type": "code",
      "metadata": {
        "colab_type": "code",
        "id": "AqiOrhjX54g7",
        "outputId": "4059c829-5567-4e87-da86-a2e4f14d3cff",
        "colab": {
          "base_uri": "https://localhost:8080/",
          "height": 91
        }
      },
      "source": [
        "len(SG_model['Symphony'])"
      ],
      "execution_count": 38,
      "outputs": [
        {
          "output_type": "stream",
          "text": [
            "/usr/local/lib/python3.6/dist-packages/ipykernel_launcher.py:1: DeprecationWarning: Call to deprecated `__getitem__` (Method will be removed in 4.0.0, use self.wv.__getitem__() instead).\n",
            "  \"\"\"Entry point for launching an IPython kernel.\n"
          ],
          "name": "stderr"
        },
        {
          "output_type": "execute_result",
          "data": {
            "text/plain": [
              "200"
            ]
          },
          "metadata": {
            "tags": []
          },
          "execution_count": 38
        }
      ]
    },
    {
      "cell_type": "markdown",
      "metadata": {
        "colab_type": "text",
        "id": "iiAalcbn_uVQ"
      },
      "source": [
        "One way to find the similarity between two vectors is ***dot product***. Therefore, we can calculate the dot product between the vectors correspond to their words, to find the similarity between the words!"
      ]
    },
    {
      "cell_type": "code",
      "metadata": {
        "colab_type": "code",
        "id": "qHAU0L829aEv",
        "colab": {}
      },
      "source": [
        "import numpy as np"
      ],
      "execution_count": 0,
      "outputs": []
    },
    {
      "cell_type": "code",
      "metadata": {
        "colab_type": "code",
        "id": "5xuPo6zf-jhZ",
        "outputId": "86c90785-1ade-4f83-cda8-250d1e8c0f2d",
        "scrolled": true,
        "colab": {
          "base_uri": "https://localhost:8080/",
          "height": 305
        }
      },
      "source": [
        "t3 = PrettyTable([ '', 'It - was', 'It - Symphony'])\n",
        "\n",
        "\n",
        "t3.add_row([ 'CBOW' , np.dot(CBOW_model['It'] , CBOW_model['was']) , np.dot(CBOW_model['It'] , CBOW_model['Symphony'])  ])\n",
        "\n",
        "t3.add_row([ 'SG' , np.dot(SG_model['It'] , SG_model['was']), np.dot(SG_model['It'] , SG_model['Symphony']) ])\n",
        "\n",
        "print(t3)\n",
        "\n",
        "print(\"\\n \\n \\n \\n\")"
      ],
      "execution_count": 40,
      "outputs": [
        {
          "output_type": "stream",
          "text": [
            "+------+----------+---------------+\n",
            "|      | It - was | It - Symphony |\n",
            "+------+----------+---------------+\n",
            "| CBOW | 6.623607 |   0.27997124  |\n",
            "|  SG  | 4.096831 |   1.3009628   |\n",
            "+------+----------+---------------+\n",
            "\n",
            " \n",
            " \n",
            " \n",
            "\n"
          ],
          "name": "stdout"
        },
        {
          "output_type": "stream",
          "text": [
            "/usr/local/lib/python3.6/dist-packages/ipykernel_launcher.py:4: DeprecationWarning: Call to deprecated `__getitem__` (Method will be removed in 4.0.0, use self.wv.__getitem__() instead).\n",
            "  after removing the cwd from sys.path.\n",
            "/usr/local/lib/python3.6/dist-packages/ipykernel_launcher.py:6: DeprecationWarning: Call to deprecated `__getitem__` (Method will be removed in 4.0.0, use self.wv.__getitem__() instead).\n",
            "  \n"
          ],
          "name": "stderr"
        }
      ]
    },
    {
      "cell_type": "markdown",
      "metadata": {
        "id": "4v33FHLq9K6c",
        "colab_type": "text"
      },
      "source": [
        "You can check out [this site](https://machinelearningmastery.com/develop-word-embeddings-python-gensim/) for *visualization*."
      ]
    },
    {
      "cell_type": "code",
      "metadata": {
        "id": "Ba0C7gce9K6e",
        "colab_type": "code",
        "colab": {}
      },
      "source": [
        "from sklearn.decomposition import PCA\n",
        "from matplotlib import pyplot"
      ],
      "execution_count": 0,
      "outputs": []
    },
    {
      "cell_type": "code",
      "metadata": {
        "id": "XuHzQnXk9K6h",
        "colab_type": "code",
        "colab": {
          "base_uri": "https://localhost:8080/",
          "height": 321
        },
        "outputId": "ff559f01-c40d-4455-f086-9bb953206227"
      },
      "source": [
        "X = SG_model[SG_model.wv.vocab]\n",
        "pca = PCA(n_components=2)\n",
        "result = pca.fit_transform(X)\n",
        "# create a scatter plot of the projection\n",
        "pyplot.scatter(result[:, 0], result[:, 1])\n",
        "words = list(SG_model.wv.vocab)\n",
        "for i, word in enumerate(words):\n",
        "    pyplot.annotate(word, xy=(result[i, 0], result[i, 1]))\n",
        "pyplot.show()"
      ],
      "execution_count": 42,
      "outputs": [
        {
          "output_type": "stream",
          "text": [
            "/usr/local/lib/python3.6/dist-packages/ipykernel_launcher.py:1: DeprecationWarning: Call to deprecated `__getitem__` (Method will be removed in 4.0.0, use self.wv.__getitem__() instead).\n",
            "  \"\"\"Entry point for launching an IPython kernel.\n"
          ],
          "name": "stderr"
        },
        {
          "output_type": "display_data",
          "data": {
            "image/png": "[encoded data removed]",
            "text/plain": [
              "<Figure size 432x288 with 1 Axes>"
            ]
          },
          "metadata": {
            "tags": []
          }
        }
      ]
    },
    {
      "cell_type": "code",
      "metadata": {
        "id": "z_NZxFPv9K6l",
        "colab_type": "code",
        "colab": {
          "base_uri": "https://localhost:8080/",
          "height": 321
        },
        "outputId": "b79adcd1-0568-49e6-9c9a-287529d3b4fc"
      },
      "source": [
        "X = SG_model[['It' , 'was', 'It' ,'Symphony']]\n",
        "pca = PCA(n_components=2)\n",
        "result = pca.fit_transform(X)\n",
        "# create a scatter plot of the projection\n",
        "pyplot.scatter(result[:, 0], result[:, 1])\n",
        "words = ['It' , 'was', 'It' ,'Symphony']\n",
        "for i, word in enumerate(words):\n",
        "    pyplot.annotate(word, xy=(result[i, 0], result[i, 1]))\n",
        "pyplot.show()"
      ],
      "execution_count": 43,
      "outputs": [
        {
          "output_type": "stream",
          "text": [
            "/usr/local/lib/python3.6/dist-packages/ipykernel_launcher.py:1: DeprecationWarning: Call to deprecated `__getitem__` (Method will be removed in 4.0.0, use self.wv.__getitem__() instead).\n",
            "  \"\"\"Entry point for launching an IPython kernel.\n"
          ],
          "name": "stderr"
        },
        {
          "output_type": "display_data",
          "data": {
            "image/png": "[encoded data removed]",
            "text/plain": [
              "<Figure size 432x288 with 1 Axes>"
            ]
          },
          "metadata": {
            "tags": []
          }
        }
      ]
    },
    {
      "cell_type": "markdown",
      "metadata": {
        "colab_type": "text",
        "id": "2l92KC-4Lmbi"
      },
      "source": [
        "If you are using raw text instead of nltk corpuses, you can **preprocess your data** to be ready as an **input to the word2vec** like below:"
      ]
    },
    {
      "cell_type": "code",
      "metadata": {
        "colab_type": "code",
        "id": "4katyVGq91mH",
        "colab": {}
      },
      "source": [
        "from nltk.tokenize import sent_tokenize, word_tokenize , RegexpTokenizer"
      ],
      "execution_count": 0,
      "outputs": []
    },
    {
      "cell_type": "code",
      "metadata": {
        "colab_type": "code",
        "id": "NpvNY1ha91wZ",
        "outputId": "ea599530-df76-464c-adfe-fc79b8e77fa0",
        "colab": {
          "base_uri": "https://localhost:8080/",
          "height": 73
        }
      },
      "source": [
        "input_string = \" Hello. \\n My name is Faeze. ;) I am a master student of AI.\"\n",
        "\n",
        "# normalzie\n",
        "input_string = input_string.replace(\"\\n\", \" \") \n",
        "  \n",
        "print(\" This is the input string:\" , input_string)\n",
        "\n",
        "data = [] \n",
        "  \n",
        "# iterate through each sentence in the file \n",
        "for i in sent_tokenize(input_string): \n",
        "    temp = [] \n",
        "      \n",
        "    # tokenize the sentence into words \n",
        "    for j in word_tokenize(i):\n",
        "        temp.append(j.lower()) \n",
        "  \n",
        "    data.append(temp) \n",
        "\n",
        "print(\" And this is our input for word2vec:\", data)"
      ],
      "execution_count": 45,
      "outputs": [
        {
          "output_type": "stream",
          "text": [
            " This is the input string:  Hello.   My name is Faeze. ;) I am a master student of AI.\n",
            " And this is our input for word2vec: [['hello', '.'], ['my', 'name', 'is', 'faeze', '.'], [';', ')', 'i', 'am', 'a', 'master', 'student', 'of', 'ai', '.']]\n"
          ],
          "name": "stdout"
        }
      ]
    },
    {
      "cell_type": "markdown",
      "metadata": {
        "colab_type": "text",
        "id": "rVixWEwRNGTh"
      },
      "source": [
        "What will happen if you remove punctuations ***before*** the loop?"
      ]
    },
    {
      "cell_type": "code",
      "metadata": {
        "colab_type": "code",
        "id": "acBUOWPJ9140",
        "outputId": "c5407ef2-9db9-4238-b26d-27f72bc2d7bd",
        "colab": {
          "base_uri": "https://localhost:8080/",
          "height": 73
        }
      },
      "source": [
        "input_string = \" Hello. \\n My name is Faeze. ;) I am a master student of AI.\"\n",
        "\n",
        "# normalzie\n",
        "input_string = re.sub('[%s]' % re.escape(string.punctuation), '', input_string)\n",
        "input_string = input_string.replace(\"\\n\", \" \") \n",
        "  \n",
        "print(\" This is the input string:\" , input_string)\n",
        "\n",
        "data = [] \n",
        "  \n",
        "# iterate through each sentence in the file \n",
        "for i in sent_tokenize(input_string): \n",
        "    temp = [] \n",
        "      \n",
        "    # tokenize the sentence into words \n",
        "    for j in word_tokenize(i):\n",
        "        temp.append(j.lower()) \n",
        "  \n",
        "    data.append(temp) \n",
        "\n",
        "print(\" And this is our input for word2vec:\", data)"
      ],
      "execution_count": 46,
      "outputs": [
        {
          "output_type": "stream",
          "text": [
            " This is the input string:  Hello   My name is Faeze  I am a master student of AI\n",
            " And this is our input for word2vec: [['hello', 'my', 'name', 'is', 'faeze', 'i', 'am', 'a', 'master', 'student', 'of', 'ai']]\n"
          ],
          "name": "stdout"
        }
      ]
    },
    {
      "cell_type": "markdown",
      "metadata": {
        "colab_type": "text",
        "id": "lQiuoayKNRqz"
      },
      "source": [
        "How to ***get rid of the punctuations*** wihtout changing the form of output?!"
      ]
    },
    {
      "cell_type": "code",
      "metadata": {
        "colab_type": "code",
        "id": "Ra_SzA0v91-0",
        "outputId": "e57b6523-b90c-40e7-f37e-211b3fdbf5c9",
        "colab": {
          "base_uri": "https://localhost:8080/",
          "height": 73
        }
      },
      "source": [
        "input_string = \" Hello. \\n My name is Faeze. ;) I am a master student of AI.\"\n",
        "\n",
        "# normalzie\n",
        "input_string = input_string.replace(\"\\n\", \" \") \n",
        "  \n",
        "print(\" This is the input string:\" , input_string)\n",
        "\n",
        "data = [] \n",
        "  \n",
        "# iterate through each sentence in the file \n",
        "for i in sent_tokenize(input_string): \n",
        "    temp = [] \n",
        "      \n",
        "    # tokenize the sentence into words \n",
        "    for j in word_tokenize(i):\n",
        "      # not adding punctuations in temp\n",
        "      if j not in string.punctuation:\n",
        "        temp.append(j.lower()) \n",
        "  \n",
        "    data.append(temp) \n",
        "\n",
        "print(\" And this is our input for word2vec:\", data)"
      ],
      "execution_count": 47,
      "outputs": [
        {
          "output_type": "stream",
          "text": [
            " This is the input string:  Hello.   My name is Faeze. ;) I am a master student of AI.\n",
            " And this is our input for word2vec: [['hello'], ['my', 'name', 'is', 'faeze'], ['i', 'am', 'a', 'master', 'student', 'of', 'ai']]\n"
          ],
          "name": "stdout"
        }
      ]
    },
    {
      "cell_type": "markdown",
      "metadata": {
        "id": "4k-VHWwPDJDu",
        "colab_type": "text"
      },
      "source": [
        "Now, lets ***read a file*** in the folder:"
      ]
    },
    {
      "cell_type": "code",
      "metadata": {
        "id": "UYZ8SzCj9K7I",
        "colab_type": "code",
        "colab": {
          "base_uri": "https://localhost:8080/",
          "height": 144
        },
        "outputId": "94a02ec8-227f-468d-db11-009923bf8c7d"
      },
      "source": [
        "with open('test_dataset') as file:\n",
        "    for line in file:\n",
        "        print(line)"
      ],
      "execution_count": 48,
      "outputs": [
        {
          "output_type": "stream",
          "text": [
            "Hello.\n",
            "\n",
            "We are going to see the results of normalization with considering this generated text set.\n",
            "\n",
            "Lets check our models on this dataset. What are the similrity for different words based on this small dataset? It is intresting. Lets watch. It is good to know... \n",
            "\n"
          ],
          "name": "stdout"
        }
      ]
    },
    {
      "cell_type": "code",
      "metadata": {
        "id": "HeB0js_K9K7M",
        "colab_type": "code",
        "colab": {}
      },
      "source": [
        "file = open('test_dataset', 'r').read()"
      ],
      "execution_count": 0,
      "outputs": []
    },
    {
      "cell_type": "code",
      "metadata": {
        "id": "b0SFoM2W9K7Q",
        "colab_type": "code",
        "colab": {
          "base_uri": "https://localhost:8080/",
          "height": 55
        },
        "outputId": "9be9534f-8147-4465-c3ea-5e075fb4bb02"
      },
      "source": [
        "file"
      ],
      "execution_count": 50,
      "outputs": [
        {
          "output_type": "execute_result",
          "data": {
            "text/plain": [
              "'Hello.\\nWe are going to see the results of normalization with considering this generated text set.\\nLets check our models on this dataset. What are the similrity for different words based on this small dataset? It is intresting. Lets watch. It is good to know... \\n'"
            ]
          },
          "metadata": {
            "tags": []
          },
          "execution_count": 50
        }
      ]
    },
    {
      "cell_type": "code",
      "metadata": {
        "id": "m4hIHM2z9K7U",
        "colab_type": "code",
        "colab": {
          "base_uri": "https://localhost:8080/",
          "height": 73
        },
        "outputId": "d5f2586b-3208-4f30-9d22-23cb5f563b7b"
      },
      "source": [
        "# normalzie\n",
        "file = file.replace(\"\\n\", \" \") \n",
        "  \n",
        "print(\" This is the input string:\" , file)\n",
        "\n",
        "data = [] \n",
        "  \n",
        "# iterate through each sentence in the file \n",
        "for i in sent_tokenize(file): \n",
        "    temp = [] \n",
        "      \n",
        "    # tokenize the sentence into words \n",
        "    for j in word_tokenize(i):\n",
        "      # not adding punctuations in temp\n",
        "      if j not in string.punctuation:\n",
        "        temp.append(j.lower()) \n",
        "  \n",
        "    data.append(temp) \n",
        "\n",
        "print(\" And this is our input for word2vec:\", data)"
      ],
      "execution_count": 51,
      "outputs": [
        {
          "output_type": "stream",
          "text": [
            " This is the input string: Hello. We are going to see the results of normalization with considering this generated text set. Lets check our models on this dataset. What are the similrity for different words based on this small dataset? It is intresting. Lets watch. It is good to know...  \n",
            " And this is our input for word2vec: [['hello'], ['we', 'are', 'going', 'to', 'see', 'the', 'results', 'of', 'normalization', 'with', 'considering', 'this', 'generated', 'text', 'set'], ['lets', 'check', 'our', 'models', 'on', 'this', 'dataset'], ['what', 'are', 'the', 'similrity', 'for', 'different', 'words', 'based', 'on', 'this', 'small', 'dataset'], ['it', 'is', 'intresting'], ['lets', 'watch'], ['it', 'is', 'good', 'to', 'know', '...']]\n"
          ],
          "name": "stdout"
        }
      ]
    },
    {
      "cell_type": "code",
      "metadata": {
        "id": "_aPDmO9i9K7d",
        "colab_type": "code",
        "colab": {}
      },
      "source": [
        "CBOW_model = gensim.models.Word2Vec(data, min_count = 1, size = 100, window = 5) \n",
        "\n",
        "SG_model = gensim.models.Word2Vec(data, min_count = 1, size = 100, window = 3, sg = 1) "
      ],
      "execution_count": 0,
      "outputs": []
    },
    {
      "cell_type": "code",
      "metadata": {
        "id": "PSTCJa9H9K7h",
        "colab_type": "code",
        "colab": {
          "base_uri": "https://localhost:8080/",
          "height": 341
        },
        "outputId": "7f8be434-7d84-4ccd-bb43-4e34c59ed805"
      },
      "source": [
        "t5 = PrettyTable([ '', 'It - is', 'It - based'])\n",
        "\n",
        "\n",
        "t5.add_row([ 'CBOW' , CBOW_model.similarity('it', 'is'), CBOW_model.similarity('it', 'based')])\n",
        "\n",
        "t5.add_row([ 'SG' , SG_model.similarity('it', 'is'), SG_model.similarity('it', 'based')])\n",
        "\n",
        "print(t5)\n",
        "\n",
        "print(\"\\n \\n \\n \\n\")"
      ],
      "execution_count": 53,
      "outputs": [
        {
          "output_type": "stream",
          "text": [
            "+------+--------------+--------------+\n",
            "|      |   It - is    |  It - based  |\n",
            "+------+--------------+--------------+\n",
            "| CBOW | -0.019301951 | -0.06189626  |\n",
            "|  SG  | -0.01946068  | -0.062026143 |\n",
            "+------+--------------+--------------+\n",
            "\n",
            " \n",
            " \n",
            " \n",
            "\n"
          ],
          "name": "stdout"
        },
        {
          "output_type": "stream",
          "text": [
            "/usr/local/lib/python3.6/dist-packages/ipykernel_launcher.py:4: DeprecationWarning: Call to deprecated `similarity` (Method will be removed in 4.0.0, use self.wv.similarity() instead).\n",
            "  after removing the cwd from sys.path.\n",
            "/usr/local/lib/python3.6/dist-packages/gensim/matutils.py:737: FutureWarning: Conversion of the second argument of issubdtype from `int` to `np.signedinteger` is deprecated. In future, it will be treated as `np.int64 == np.dtype(int).type`.\n",
            "  if np.issubdtype(vec.dtype, np.int):\n",
            "/usr/local/lib/python3.6/dist-packages/ipykernel_launcher.py:6: DeprecationWarning: Call to deprecated `similarity` (Method will be removed in 4.0.0, use self.wv.similarity() instead).\n",
            "  \n"
          ],
          "name": "stderr"
        }
      ]
    },
    {
      "cell_type": "markdown",
      "metadata": {
        "id": "zbn-4yW39K7m",
        "colab_type": "text"
      },
      "source": [
        "*Visualization*"
      ]
    },
    {
      "cell_type": "code",
      "metadata": {
        "id": "qC8I_HH59K7n",
        "colab_type": "code",
        "colab": {
          "base_uri": "https://localhost:8080/",
          "height": 321
        },
        "outputId": "8201a427-ca78-49c8-abe9-ffb9025353e5"
      },
      "source": [
        "X = SG_model[SG_model.wv.vocab]\n",
        "pca = PCA(n_components=2)\n",
        "result = pca.fit_transform(X)\n",
        "# create a scatter plot of the projection\n",
        "pyplot.scatter(result[:, 0], result[:, 1])\n",
        "words = list(SG_model.wv.vocab)\n",
        "for i, word in enumerate(words):\n",
        "    pyplot.annotate(word, xy=(result[i, 0], result[i, 1]))\n",
        "pyplot.show()"
      ],
      "execution_count": 54,
      "outputs": [
        {
          "output_type": "stream",
          "text": [
            "/usr/local/lib/python3.6/dist-packages/ipykernel_launcher.py:1: DeprecationWarning: Call to deprecated `__getitem__` (Method will be removed in 4.0.0, use self.wv.__getitem__() instead).\n",
            "  \"\"\"Entry point for launching an IPython kernel.\n"
          ],
          "name": "stderr"
        },
        {
          "output_type": "display_data",
          "data": {
            "image/png": "[encoded data removed]",
            "text/plain": [
              "<Figure size 432x288 with 1 Axes>"
            ]
          },
          "metadata": {
            "tags": []
          }
        }
      ]
    },
    {
      "cell_type": "code",
      "metadata": {
        "id": "48il6ssf9K7y",
        "colab_type": "code",
        "colab": {
          "base_uri": "https://localhost:8080/",
          "height": 321
        },
        "outputId": "224450bc-0b92-4496-860e-c9368d01eb11"
      },
      "source": [
        "X = SG_model[['it', 'watch', 'set' , 'is']]\n",
        "pca = PCA(n_components=2)\n",
        "result = pca.fit_transform(X)\n",
        "\n",
        "# create a scatter plot of the projection\n",
        "pyplot.scatter(result[:, 0], result[:, 1])\n",
        "words = ['it', 'watch', 'set' , 'is']\n",
        "for i, word in enumerate(words):\n",
        "    pyplot.annotate(word, xy=(result[i, 0], result[i, 1]))\n",
        "    \n",
        "pyplot.show()"
      ],
      "execution_count": 55,
      "outputs": [
        {
          "output_type": "stream",
          "text": [
            "/usr/local/lib/python3.6/dist-packages/ipykernel_launcher.py:1: DeprecationWarning: Call to deprecated `__getitem__` (Method will be removed in 4.0.0, use self.wv.__getitem__() instead).\n",
            "  \"\"\"Entry point for launching an IPython kernel.\n"
          ],
          "name": "stderr"
        },
        {
          "output_type": "display_data",
          "data": {
            "image/png": "[encoded data removed]",
            "text/plain": [
              "<Figure size 432x288 with 1 Axes>"
            ]
          },
          "metadata": {
            "tags": []
          }
        }
      ]
    },
    {
      "cell_type": "markdown",
      "metadata": {
        "colab_type": "text",
        "id": "iCH_eBFWgWTt"
      },
      "source": [
        "**References:**\n",
        "\n",
        "[1] https://www.kdnuggets.com/2019/04/text-preprocessing-nlp-machine-learning.html\n",
        "\n",
        "[2] https://web.stanford.edu/class/cs276/handouts/lecture2-dictionary-handout-6-per.pdf\n",
        "\n",
        "[3] https://en.wikipedia.org/wiki/Lemmatisation\n",
        "\n",
        "[4] https://nlp.stanford.edu/IR-book/html/htmledition/stemming-and-lemmatization-1.html\n",
        "\n",
        "[5] https://medium.com/@datamonsters/text-preprocessing-in-python-steps-tools-and-examples-bf025f872908\n",
        "\n",
        "[6] https://www.geeksforgeeks.org/python-word-embedding-using-word2vec/\n",
        "\n",
        "[7] [Efficient Estimation of Word Representations in Vector Space, Tomas Mikolov et. all, 2013.](https://arxiv.org/pdf/1301.3781.pdf)"
      ]
    },
    {
      "cell_type": "markdown",
      "metadata": {
        "colab_type": "text",
        "id": "fQydYMKd5Kts"
      },
      "source": [
        "You can check out more details about *Word2Vec* in [this](https://towardsdatascience.com/an-implementation-guide-to-word2vec-using-numpy-and-google-sheets-13445eebd281) page."
      ]
    }
  ]
}